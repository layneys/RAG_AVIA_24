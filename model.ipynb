{
 "cells": [
  {
   "cell_type": "code",
   "execution_count": 1,
   "id": "33f4f537-3e6d-40de-9ed5-1861dba15f97",
   "metadata": {},
   "outputs": [],
   "source": [
    "# !pip install faiss-gpu openai faiss-cpu langchain langchain_community pypdf sentence-transformers tf-keras"
   ]
  },
  {
   "cell_type": "code",
   "execution_count": 1,
   "id": "057e1763-a8af-44ef-a081-7c066c082b5f",
   "metadata": {},
   "outputs": [
    {
     "name": "stderr",
     "output_type": "stream",
     "text": [
      "2024-12-21 09:03:20.885681: E external/local_xla/xla/stream_executor/cuda/cuda_fft.cc:477] Unable to register cuFFT factory: Attempting to register factory for plugin cuFFT when one has already been registered\n",
      "WARNING: All log messages before absl::InitializeLog() is called are written to STDERR\n",
      "E0000 00:00:1734771800.900073    3708 cuda_dnn.cc:8310] Unable to register cuDNN factory: Attempting to register factory for plugin cuDNN when one has already been registered\n",
      "E0000 00:00:1734771800.904563    3708 cuda_blas.cc:1418] Unable to register cuBLAS factory: Attempting to register factory for plugin cuBLAS when one has already been registered\n",
      "2024-12-21 09:03:20.918681: I tensorflow/core/platform/cpu_feature_guard.cc:210] This TensorFlow binary is optimized to use available CPU instructions in performance-critical operations.\n",
      "To enable the following instructions: AVX2 FMA, in other operations, rebuild TensorFlow with the appropriate compiler flags.\n"
     ]
    }
   ],
   "source": [
    "from transformers import pipeline\n",
    "from langchain_community.document_loaders import PyPDFLoader\n",
    "from langchain.text_splitter import RecursiveCharacterTextSplitter\n",
    "from langchain.embeddings import HuggingFaceEmbeddings\n",
    "from langchain.vectorstores import FAISS"
   ]
  },
  {
   "cell_type": "code",
   "execution_count": 4,
   "id": "dbd9e655-c381-4d50-9026-c59a7e8e7147",
   "metadata": {},
   "outputs": [],
   "source": [
    "pdf_files = [\"Кртакое_руководство_по_разбрасователю_Амазон_ZG_TS_7501.pdf\", \"Руководство_по_бортовому_компьютеу_Аматрон-1.pdf\",\n",
    "             \"Руководство_по_разбрасователю_Амазон_ZG_TS_7501-2.pdf\", \"Руководство по эксплуатации ISO BUS-1.pdf\"]\n",
    "documents = []\n",
    "for pdf_file in pdf_files:\n",
    "    loader = PyPDFLoader(pdf_file)\n",
    "    documents.extend(loader.load())\n",
    "# Разделение текста на части для лучшего индексирования\n",
    "text_splitter = RecursiveCharacterTextSplitter(\n",
    "    chunk_size=4092,\n",
    "    chunk_overlap=2048\n",
    ")\n",
    "split_docs = text_splitter.split_documents(documents)"
   ]
  },
  {
   "cell_type": "code",
   "execution_count": 5,
   "id": "b679c3ff-1340-4eba-9667-018aab106588",
   "metadata": {},
   "outputs": [],
   "source": [
    "model_name = \"MTSAIR/Cotype-Nano\""
   ]
  },
  {
   "cell_type": "code",
   "execution_count": 6,
   "id": "00bd0b10-7a2b-4f4e-8e67-117e246e66cc",
   "metadata": {
    "scrolled": true
   },
   "outputs": [
    {
     "name": "stderr",
     "output_type": "stream",
     "text": [
      "No sentence-transformers model found with name MTSAIR/Cotype-Nano. Creating a new one with mean pooling.\n"
     ]
    }
   ],
   "source": [
    "embeddings = HuggingFaceEmbeddings(model_name=model_name)\n",
    "faiss_index = FAISS.from_documents(split_docs, embedding=embeddings)"
   ]
  },
  {
   "cell_type": "code",
   "execution_count": null,
   "id": "e0d715a8-60ea-433c-ae36-675c527287b6",
   "metadata": {},
   "outputs": [],
   "source": [
    "# results = faiss_index.similarity_search(query, k = 10)\n",
    "# for res in results: \n",
    "#     print(f\"* {res.page_content}\")"
   ]
  },
  {
   "cell_type": "code",
   "execution_count": 9,
   "id": "ae592b86-3eb7-43bb-b040-5df4d8ede00a",
   "metadata": {},
   "outputs": [
    {
     "name": "stderr",
     "output_type": "stream",
     "text": [
      "Device set to use cuda\n"
     ]
    }
   ],
   "source": [
    "pipe = pipeline(\"text-generation\", model=\"MTSAIR/Cotype-Nano\", device=\"cuda\")\n",
    "# messages = [\n",
    "#   {\"role\": \"system\", \"content\": f\"Ты — ИИ-помощник. Тебе дано задание: необходимо сгенерировать подробный и развернутый ответ. Пользователем является плохо разбирающийся в технологиях человек. \\\n",
    "#   Нужно в несколько абзацев на основе предоставленной информации сформировать для пользователя доступный и понятный ответ. В виде сплошного текста, чтобы пользователь мог понять, с чем имеет дело.\\\n",
    "#   Тебе надо объяснить простому работнику на основе технической документации какие действия следует предпринять для решения его запроса. \\\n",
    "#     Грамотно, коротко и технично опиши основные пункты для решения данного вопроса.\\\n",
    "#     Предоставленная информация должна относиться только к его вопросу, не касаясь любых посторонних тем.\\\n",
    "#     Вторым абзацем составь короткий чек-лист по предоставленным ранее правилам, примерный вид чек-листа: 1)сделать одно;\\n \\\n",
    "#     2)сделать другое и т.д.чтобы работник мог понять как решить проблему.\\\n",
    "#     Также обязательно отформатируй текст и дополни его для предельной естественности\\n Данные, на основе которых требуется составить ответ: {results}\"[:7800]},\n",
    "#   {\"role\": \"user\", \"content\": f\"Запрос пользователя: {query}\\n\\n\"[:256]},\n",
    "# ]\n",
    "# res = pipe(messages, max_length=8192)\n",
    "\n",
    "# print(res[0]['generated_text'][-1]['content'])"
   ]
  },
  {
   "cell_type": "code",
   "execution_count": 10,
   "id": "ac4890f1-d9a8-4ced-9c6d-c8611a864591",
   "metadata": {},
   "outputs": [],
   "source": [
    "# for res in results:\n",
    "#     # if file_name == f\"file_name:'{res.metadata['source']}'_page:{res.metadata['page']}\"\n",
    "#     print(f\"file_name:'{res.metadata['source']}'_page:{res.metadata['page']}\")"
   ]
  },
  {
   "cell_type": "code",
   "execution_count": 11,
   "id": "2a5984ef-1872-4d31-82c5-89f96b553efd",
   "metadata": {},
   "outputs": [],
   "source": [
    "import pandas as pd\n",
    "df = pd.read_csv(\"./test.csv\")\n",
    "df_sub=pd.DataFrame()"
   ]
  },
  {
   "cell_type": "code",
   "execution_count": null,
   "id": "302b79f0-de39-485a-a68f-c24931e1ec25",
   "metadata": {},
   "outputs": [
    {
     "name": "stdout",
     "output_type": "stream",
     "text": [
      "Как настроить норму внесения удобрений на распределителе ZG-TS?\n",
      "========================================================\n",
      "Для настройки нормы внесения удобрений на распределителе ZG-TS выполните следующие шаги:\n",
      "\n",
      "1. Откройте приложение \"Spreader Application Center\" (Center).\n",
      "2. Перейдите в раздел \"CMS-T -00001745-G\", где будет указано текущее количество необходимого удобрения.\n",
      "3. Для каждого типа удобрения найдите информацию о рекомендуемых количествах в вашем регионе.\n",
      "4. Установите выбранные количества в соответствии с инструкциями, которые предоставляет приложение.\n",
      "5. Сохраните изменения, чтобы они вступили в силу.\n",
      "\n",
      "Это позволит вам эффективно использовать ресурсы и получить максимальную пользу от ваших агропроизводственных практик.\n",
      "Какие действия необходимо выполнить перед первым вводом в эксплуатацию ZG-TS?\n",
      "========================================================\n",
      "Перед первым вводом в эксплуатацию терминала ZG-TS вам нужно выполнить следующие шаги:\n",
      "\n",
      "1. **Получите необходимые инструкции**: Убедитесь, что у вас есть краткое руководство по эксплуатации ZG-TS, которое содержит информацию о том, как правильно использовать устройство.\n",
      "\n",
      "2. **Подготовьте оборудование**: Вам понадобится компьютер или специальное программное обеспечение для связи с терминатором (Task Controller), а также возможно, дополнительные аксессуары, такие как GPS-трекер и другие устройства, которые могут быть требованием вашего руководства.\n",
      "\n",
      "3. **Настройте GPS-трекер**: Установите GPS-трекер на ваше транспортное средство согласно инструкциям. Обычно это делается заранее, до начала работы с терминатором.\n",
      "\n",
      "4. **Пройдите обучение**: Поскольку ZG-TS - это новое оборудование, возможно, потребуется провести обучение для оператора, чтобы он мог эффективно использовать все функции терминала.\n",
      "\n",
      "5. **Создайте базу данных**: Создайте или импортируйте базу данных с информацией о ваших земельных участках, типах почвы и других параметрах, которые будут использоваться при планировании посадки.\n",
      "\n",
      "6. **Настройте систему управления**: Используйте приложение mySpreader для настройки системы управления удобрениями, включая выбор подходящих сортов удобрений и расчет их необходимого количества.\n",
      "\n",
      "7. **Проверьте работу**: После настройки всех параметров проверьте работу всей системы, включая GPS-трекинг и автоматическую дифференцированную регулировку нор-меток.\n",
      "\n",
      "8. **Используйте интуитивную систему**: Настройте интуитивную систему для обработки аппликационных карт в формате shape и ISO-XML, чтобы обеспечить точное представление местности и планов.\n",
      "\n",
      "9. **Соблюдайте стандарты**: Следуйте всем установленным стандартам и рекомендациям, предоставляемым вашим руководством по эксплуатации ZG-TS.\n",
      "\n",
      "Эти шаги помогут вам начать использование ZG-TS максимально эффективно и с минимальными рисками. Не забывайте, что регулярное обслуживание и техническая поддержка также играют важную роль в долгосрочной успешности использования терминала.\n"
     ]
    }
   ],
   "source": [
    "for el in df[\"user_input\"]:\n",
    "    query = el\n",
    "    results = faiss_index.similarity_search(query, k = 10 )\n",
    "    messages = [\n",
    "  {\"role\": \"system\", \"content\": f\"Ты — ИИ-помощник. Тебе дано задание: необходимо сгенерировать подробный и развернутый ответ. Пользователем является плохо разбирающийся в технологиях человек. \\\n",
    "  Нужно в несколько абзацев на основе предоставленной информации сформировать для пользователя доступный и понятный ответ. В виде сплошного текста, чтобы пользователь мог понять, с чем имеет дело.\\\n",
    "  Тебе надо объяснить простому работнику на основе технической документации какие действия следует предпринять для решения его запроса. \\\n",
    "    Грамотно, коротко и технично опиши основные пункты для решения данного вопроса.\\\n",
    "    Предоставленная информация должна относиться только к его вопросу, не касаясь любых посторонних тем.\\\n",
    "    Вторым абзацем составь короткий чек-лист по предоставленным ранее правилам, примерный вид чек-листа: 1)сделать одно;\\n \\\n",
    "    2)сделать другое и т.д.чтобы работник м/parsed_images/ог понять как решить проблему.\\\n",
    "    Также обязательно отформатируй текст и дополни его для предельной естественности\\n Данные, на основе которых требуется составить ответ: {results}\"[:7800]},\n",
    "  {\"role\": \"user\", \"content\": f\"Запрос пользователя: {query}\\n\\n\"[:256]},\n",
    "]\n",
    "    res_model = pipe(messages, max_length=8192)\n",
    "\n",
    "    # lst_vec = []\n",
    "\n",
    "    # for res in results: \n",
    "    #     lst_vec.append(res.page_content)\n",
    "    print(query)\n",
    "    print(\"========================================================\")\n",
    "    print(res_model[0]['generated_text'][-1]['content'])\n",
    "    \n",
    "    # new_data = pd.DataFrame([{'contexts':f\"{lst_vec}\", 'response':res_model[0]['generated_text'][-1]['content']}])\n",
    "    # df_sub = pd.concat([df_sub, new_data], ignore_index=True)\n",
    "    # df_sub.to_csv('submission2.csv', sep=',', index=False)\n",
    "\n",
    "    \n",
    "    "
   ]
  },
  {
   "cell_type": "code",
   "execution_count": null,
   "id": "cd54797f-8903-42a5-9bd2-9c92f2b939f1",
   "metadata": {},
   "outputs": [],
   "source": []
  }
 ],
 "metadata": {
  "kernelspec": {
   "display_name": "Python 3 (ipykernel)",
   "language": "python",
   "name": "python3"
  },
  "language_info": {
   "codemirror_mode": {
    "name": "ipython",
    "version": 3
   },
   "file_extension": ".py",
   "mimetype": "text/x-python",
   "name": "python",
   "nbconvert_exporter": "python",
   "pygments_lexer": "ipython3",
   "version": "3.10.14"
  }
 },
 "nbformat": 4,
 "nbformat_minor": 5
}
