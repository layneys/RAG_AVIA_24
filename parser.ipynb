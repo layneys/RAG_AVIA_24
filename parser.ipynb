{
 "cells": [
  {
   "cell_type": "code",
   "execution_count": 4,
   "id": "1b1d513b-3b2f-4b66-bc50-d5703ccb7984",
   "metadata": {},
   "outputs": [
    {
     "name": "stdout",
     "output_type": "stream",
     "text": [
      "Requirement already satisfied: pillow in /opt/conda/lib/python3.10/site-packages (10.3.0)\n",
      "Requirement already satisfied: fitz in /opt/conda/lib/python3.10/site-packages (0.0.1.dev2)\n",
      "Collecting frontend\n",
      "  Downloading frontend-0.0.3-py3-none-any.whl.metadata (847 bytes)\n",
      "Requirement already satisfied: configobj in /opt/conda/lib/python3.10/site-packages (from fitz) (5.0.9)\n",
      "Requirement already satisfied: configparser in /opt/conda/lib/python3.10/site-packages (from fitz) (7.1.0)\n",
      "Requirement already satisfied: httplib2 in /opt/conda/lib/python3.10/site-packages (from fitz) (0.22.0)\n",
      "Requirement already satisfied: nibabel in /opt/conda/lib/python3.10/site-packages (from fitz) (5.3.2)\n",
      "Requirement already satisfied: nipype in /opt/conda/lib/python3.10/site-packages (from fitz) (1.9.2)\n",
      "Requirement already satisfied: numpy in /opt/conda/lib/python3.10/site-packages (from fitz) (1.26.4)\n",
      "Requirement already satisfied: pandas in /opt/conda/lib/python3.10/site-packages (from fitz) (2.2.3)\n",
      "Requirement already satisfied: pyxnat in /opt/conda/lib/python3.10/site-packages (from fitz) (1.6.2)\n",
      "Requirement already satisfied: scipy in /opt/conda/lib/python3.10/site-packages (from fitz) (1.14.1)\n",
      "Collecting starlette>=0.12.0 (from frontend)\n",
      "  Downloading starlette-0.42.0-py3-none-any.whl.metadata (6.0 kB)\n",
      "Collecting uvicorn>=0.7.1 (from frontend)\n",
      "  Downloading uvicorn-0.34.0-py3-none-any.whl.metadata (6.5 kB)\n",
      "Requirement already satisfied: itsdangerous>=1.1.0 in /opt/conda/lib/python3.10/site-packages (from frontend) (2.2.0)\n",
      "Collecting aiofiles (from frontend)\n",
      "  Downloading aiofiles-24.1.0-py3-none-any.whl.metadata (10 kB)\n",
      "Requirement already satisfied: anyio<5,>=3.4.0 in /opt/conda/lib/python3.10/site-packages (from starlette>=0.12.0->frontend) (4.7.0)\n",
      "Requirement already satisfied: click>=7.0 in /opt/conda/lib/python3.10/site-packages (from uvicorn>=0.7.1->frontend) (8.1.7)\n",
      "Requirement already satisfied: h11>=0.8 in /opt/conda/lib/python3.10/site-packages (from uvicorn>=0.7.1->frontend) (0.14.0)\n",
      "Requirement already satisfied: typing-extensions>=4.0 in /opt/conda/lib/python3.10/site-packages (from uvicorn>=0.7.1->frontend) (4.12.2)\n",
      "Requirement already satisfied: pyparsing!=3.0.0,!=3.0.1,!=3.0.2,!=3.0.3,<4,>=2.4.2 in /opt/conda/lib/python3.10/site-packages (from httplib2->fitz) (3.2.0)\n",
      "Requirement already satisfied: importlib-resources>=5.12 in /opt/conda/lib/python3.10/site-packages (from nibabel->fitz) (6.4.5)\n",
      "Requirement already satisfied: packaging>=20 in /opt/conda/lib/python3.10/site-packages (from nibabel->fitz) (23.2)\n",
      "Requirement already satisfied: networkx>=2.5 in /opt/conda/lib/python3.10/site-packages (from nipype->fitz) (3.2.1)\n",
      "Requirement already satisfied: prov>=1.5.2 in /opt/conda/lib/python3.10/site-packages (from nipype->fitz) (2.0.1)\n",
      "Requirement already satisfied: pydot>=1.2.3 in /opt/conda/lib/python3.10/site-packages (from nipype->fitz) (3.0.3)\n",
      "Requirement already satisfied: python-dateutil>=2.2 in /opt/conda/lib/python3.10/site-packages (from nipype->fitz) (2.9.0.post0)\n",
      "Requirement already satisfied: rdflib>=5.0.0 in /opt/conda/lib/python3.10/site-packages (from nipype->fitz) (6.3.2)\n",
      "Requirement already satisfied: simplejson>=3.8.0 in /opt/conda/lib/python3.10/site-packages (from nipype->fitz) (3.19.3)\n",
      "Requirement already satisfied: traits>=6.2 in /opt/conda/lib/python3.10/site-packages (from nipype->fitz) (6.4.3)\n",
      "Requirement already satisfied: filelock>=3.0.0 in /opt/conda/lib/python3.10/site-packages (from nipype->fitz) (3.13.1)\n",
      "Requirement already satisfied: acres in /opt/conda/lib/python3.10/site-packages (from nipype->fitz) (0.2.0)\n",
      "Requirement already satisfied: etelemetry>=0.3.1 in /opt/conda/lib/python3.10/site-packages (from nipype->fitz) (0.3.1)\n",
      "Requirement already satisfied: looseversion!=1.2 in /opt/conda/lib/python3.10/site-packages (from nipype->fitz) (1.3.0)\n",
      "Requirement already satisfied: puremagic in /opt/conda/lib/python3.10/site-packages (from nipype->fitz) (1.28)\n",
      "Requirement already satisfied: pytz>=2020.1 in /opt/conda/lib/python3.10/site-packages (from pandas->fitz) (2023.4)\n",
      "Requirement already satisfied: tzdata>=2022.7 in /opt/conda/lib/python3.10/site-packages (from pandas->fitz) (2023.3)\n",
      "Requirement already satisfied: lxml>=4.3 in /opt/conda/lib/python3.10/site-packages (from pyxnat->fitz) (5.3.0)\n",
      "Requirement already satisfied: requests>=2.20 in /opt/conda/lib/python3.10/site-packages (from pyxnat->fitz) (2.32.2)\n",
      "Requirement already satisfied: pathlib>=1.0 in /opt/conda/lib/python3.10/site-packages (from pyxnat->fitz) (1.0.1)\n",
      "Requirement already satisfied: exceptiongroup>=1.0.2 in /opt/conda/lib/python3.10/site-packages (from anyio<5,>=3.4.0->starlette>=0.12.0->frontend) (1.2.0)\n",
      "Requirement already satisfied: idna>=2.8 in /opt/conda/lib/python3.10/site-packages (from anyio<5,>=3.4.0->starlette>=0.12.0->frontend) (3.7)\n",
      "Requirement already satisfied: sniffio>=1.1 in /opt/conda/lib/python3.10/site-packages (from anyio<5,>=3.4.0->starlette>=0.12.0->frontend) (1.3.1)\n",
      "Requirement already satisfied: ci-info>=0.2 in /opt/conda/lib/python3.10/site-packages (from etelemetry>=0.3.1->nipype->fitz) (0.3.0)\n",
      "Requirement already satisfied: six>=1.5 in /opt/conda/lib/python3.10/site-packages (from python-dateutil>=2.2->nipype->fitz) (1.16.0)\n",
      "Requirement already satisfied: isodate<0.7.0,>=0.6.0 in /opt/conda/lib/python3.10/site-packages (from rdflib>=5.0.0->nipype->fitz) (0.6.1)\n",
      "Requirement already satisfied: charset-normalizer<4,>=2 in /opt/conda/lib/python3.10/site-packages (from requests>=2.20->pyxnat->fitz) (2.0.4)\n",
      "Requirement already satisfied: urllib3<3,>=1.21.1 in /opt/conda/lib/python3.10/site-packages (from requests>=2.20->pyxnat->fitz) (2.2.1)\n",
      "Requirement already satisfied: certifi>=2017.4.17 in /opt/conda/lib/python3.10/site-packages (from requests>=2.20->pyxnat->fitz) (2024.8.30)\n",
      "Downloading frontend-0.0.3-py3-none-any.whl (32 kB)\n",
      "Downloading starlette-0.42.0-py3-none-any.whl (73 kB)\n",
      "\u001b[2K   \u001b[90m━━━━━━━━━━━━━━━━━━━━━━━━━━━━━━━━━━━━━━━━\u001b[0m \u001b[32m73.4/73.4 kB\u001b[0m \u001b[31m2.6 MB/s\u001b[0m eta \u001b[36m0:00:00\u001b[0m\n",
      "Downloading uvicorn-0.34.0-py3-none-any.whl (62 kB)\n",
      "\u001b[2K   \u001b[90m━━━━━━━━━━━━━━━━━━━━━━━━━━━━━━━━━━━━━━━━\u001b[0m \u001b[32m62.3/62.3 kB\u001b[0m \u001b[31m1.2 MB/s\u001b[0m eta \u001b[36m0:00:00\u001b[0m:00:01\u001b[0m\n",
      "\u001b[?25hDownloading aiofiles-24.1.0-py3-none-any.whl (15 kB)\n",
      "Installing collected packages: uvicorn, aiofiles, starlette, frontend\n",
      "Successfully installed aiofiles-24.1.0 frontend-0.0.3 starlette-0.42.0 uvicorn-0.34.0\n"
     ]
    }
   ],
   "source": [
    "# !pip install pillow fitz frontend"
   ]
  },
  {
   "cell_type": "code",
   "execution_count": 9,
   "id": "27d93114-26cf-4cd8-9b98-e4d794cbe830",
   "metadata": {},
   "outputs": [],
   "source": [
    "# STEP 1\n",
    "# import libraries\n",
    "import fitz  # PyMuPDF\n",
    "import io\n",
    "from PIL import Image\n",
    "import os \n",
    "# STEP 2\n",
    "# file path you want to extract images from\n",
    "files=[\"Кртакое_руководство_по_разбрасователю_Амазон_ZG_TS_7501.pdf\", \"Руководство_по_бортовому_компьютеу_Аматрон-1.pdf\",\n",
    "             \"Руководство_по_разбрасователю_Амазон_ZG_TS_7501-2.pdf\", \"Руководство по эксплуатации ISO BUS-1.pdf\"]\n",
    "abs_path = os.path.abspath(\"./parsed_images/\")\n",
    "\n",
    "# # open the file\n",
    "# pdf_file = fitz.open(file)\n",
    "# # STEP 3\n",
    "# # iterate over PDF pages\n",
    "# for file in files:\n",
    "#     for page_index in range(len(pdf_file)):\n",
    "    \n",
    "#         # get the page itself\n",
    "#         page = pdf_file.load_page(page_index)  # load the page\n",
    "#         image_list = page.get_images(full=True)  # get images on the page\n",
    "    \n",
    "#         # printing number of images found in this page\n",
    "#         if image_list:\n",
    "#             print(f\"[+] Found a total of {len(image_list)} images on page {page_index}\")\n",
    "#         else:\n",
    "#             print(\"[!] No images found on page\", page_index)\n",
    "        \n",
    "#         for image_index, img in enumerate(image_list, start=1):\n",
    "#             # get the XREF of the image\n",
    "#             xref = img[0]\n",
    "    \n",
    "#             # extract the image bytes\n",
    "#             base_image = pdf_file.extract_image(xref)\n",
    "#             image_bytes = base_image[\"image\"]\n",
    "    \n",
    "#             # get the image extension\n",
    "#             image_ext = base_image[\"ext\"]\n",
    "            \n",
    "#             image_name = f\"{page_index+1}_{image_index}.{image_ext}\"\n",
    "    \n",
    "#             full_path = os.path.join(abs_path, image_name)\n",
    "#             print(full_path)\n",
    "#             # save the image\n",
    "#             image_name = f\"{page_index+1}_{image_index}.{image_ext}\"\n",
    "#             with open(full_path, \"wb\") as image_file:\n",
    "#                 image_file.write(image_bytes)\n",
    "#                 print(f\"[+] Image saved as {image_name}\")"
   ]
  },
  {
   "cell_type": "code",
   "execution_count": 11,
   "id": "f9c27c3e-86b6-4dca-95d0-8f8e3572a01d",
   "metadata": {},
   "outputs": [
    {
     "data": {
      "text/plain": [
       "'/home/jovyan/parsed_images'"
      ]
     },
     "execution_count": 11,
     "metadata": {},
     "output_type": "execute_result"
    }
   ],
   "source": [
    "abs_path"
   ]
  },
  {
   "cell_type": "code",
   "execution_count": 4,
   "id": "2acd597f-42bd-4171-a554-b756416ae5a2",
   "metadata": {},
   "outputs": [
    {
     "name": "stdout",
     "output_type": "stream",
     "text": [
      "Collecting spire.pdf\n",
      "  Using cached Spire.Pdf-10.11.0-py3-none-manylinux1_x86_64.whl.metadata (7.0 kB)\n",
      "Collecting plum-dispatch==1.7.4 (from spire.pdf)\n",
      "  Using cached plum_dispatch-1.7.4-py3-none-any.whl.metadata (1.8 kB)\n",
      "Using cached Spire.Pdf-10.11.0-py3-none-manylinux1_x86_64.whl (42.1 MB)\n",
      "Using cached plum_dispatch-1.7.4-py3-none-any.whl (24 kB)\n",
      "Installing collected packages: plum-dispatch, spire.pdf\n",
      "Successfully installed plum-dispatch-1.7.4 spire.pdf-10.11.0\n"
     ]
    }
   ],
   "source": [
    "!pip install spire.pdf"
   ]
  },
  {
   "cell_type": "code",
   "execution_count": 5,
   "id": "f4790285-baec-4fed-bed7-0a2dbab3c424",
   "metadata": {},
   "outputs": [],
   "source": [
    "from spire.pdf import *\n",
    "import io\n",
    "from PIL import Image\n",
    "import os \n",
    "files=[\"Кртакое_руководство_по_разбрасователю_Амазон_ZG_TS_7501.pdf\", \"Руководство_по_бортовому_компьютеу_Аматрон-1.pdf\",\n",
    "             \"Руководство_по_разбрасователю_Амазон_ZG_TS_7501-2.pdf\", \"Руководство по эксплуатации ISO BUS-1.pdf\"]\n",
    "abs_pic_path = os.path.abspath(\"./parsed_images/\")\n",
    "abs_dir_path = os.path.abspath(\"./\")\n",
    "for file in files:\n",
    "    # Create a PdfDocument object\n",
    "    doc = PdfDocument()\n",
    "    file_path = os.path.join(abs_dir_path, file)\n",
    "    # Load a PDF document\n",
    "    doc.LoadFromFile(file_path)\n",
    "    \n",
    "    # Create a PdfImageHelper object\n",
    "    imageHelper = PdfImageHelper()\n",
    "    \n",
    "    # Declare an int variable\n",
    "    index = 0\n",
    "    \n",
    "    # Iterate through the pages\n",
    "    for i in range(0, doc.Pages.Count):\n",
    "    \n",
    "        # Get a specific page\n",
    "        page = doc.Pages.get_Item(i)\n",
    "    \n",
    "        # Get all image information from a specific page \n",
    "        imageInfos = imageHelper.GetImagesInfo(page)\n",
    "        j=0\n",
    "        # Iterate through the image information\n",
    "        for imageInfo in imageInfos:\n",
    "            \n",
    "             # Specify the output image file name\n",
    "             imageFileName = os.path.join(abs_pic_path, f\"file:'{file}'_page:{i+1}_image:{index+1}.png\")\n",
    "             \n",
    "             # Get a specific image\n",
    "             image = imageInfo.Image\n",
    "             \n",
    "             # Save the image to a png file\n",
    "             image.Save(imageFileName)\n",
    "             index += 1\n",
    "        j+=1   \n",
    "    # Dispose resources\n",
    "    doc.Dispose()"
   ]
  },
  {
   "cell_type": "code",
   "execution_count": null,
   "id": "dfdb684c-89d5-401c-835b-20ab10559d11",
   "metadata": {},
   "outputs": [],
   "source": []
  }
 ],
 "metadata": {
  "kernelspec": {
   "display_name": "Python 3 (ipykernel)",
   "language": "python",
   "name": "python3"
  },
  "language_info": {
   "codemirror_mode": {
    "name": "ipython",
    "version": 3
   },
   "file_extension": ".py",
   "mimetype": "text/x-python",
   "name": "python",
   "nbconvert_exporter": "python",
   "pygments_lexer": "ipython3",
   "version": "3.10.14"
  }
 },
 "nbformat": 4,
 "nbformat_minor": 5
}
